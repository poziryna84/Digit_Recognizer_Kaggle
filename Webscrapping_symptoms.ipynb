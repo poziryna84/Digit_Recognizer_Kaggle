{
  "nbformat": 4,
  "nbformat_minor": 0,
  "metadata": {
    "colab": {
      "name": "Webscrapping_symptoms.ipynb",
      "provenance": [],
      "collapsed_sections": [],
      "include_colab_link": true
    },
    "kernelspec": {
      "name": "python3",
      "display_name": "Python 3"
    }
  },
  "cells": [
    {
      "cell_type": "markdown",
      "metadata": {
        "id": "view-in-github",
        "colab_type": "text"
      },
      "source": [
        "<a href=\"https://colab.research.google.com/github/poziryna84/Digit_Recognizer_Kaggle/blob/master/Webscrapping_symptoms.ipynb\" target=\"_parent\"><img src=\"https://colab.research.google.com/assets/colab-badge.svg\" alt=\"Open In Colab\"/></a>"
      ]
    },
    {
      "cell_type": "code",
      "metadata": {
        "id": "CaR0HKx7j7lp",
        "colab_type": "code",
        "outputId": "1f1127bb-6471-44f6-b338-d0f3ae79405e",
        "colab": {
          "base_uri": "https://localhost:8080/",
          "height": 122
        }
      },
      "source": [
        "from google.colab import drive\n",
        "drive.mount('/content/drive')"
      ],
      "execution_count": 1,
      "outputs": [
        {
          "output_type": "stream",
          "text": [
            "Go to this URL in a browser: https://accounts.google.com/o/oauth2/auth?client_id=947318989803-6bn6qk8qdgf4n4g3pfee6491hc0brc4i.apps.googleusercontent.com&redirect_uri=urn%3Aietf%3Awg%3Aoauth%3A2.0%3Aoob&scope=email%20https%3A%2F%2Fwww.googleapis.com%2Fauth%2Fdocs.test%20https%3A%2F%2Fwww.googleapis.com%2Fauth%2Fdrive%20https%3A%2F%2Fwww.googleapis.com%2Fauth%2Fdrive.photos.readonly%20https%3A%2F%2Fwww.googleapis.com%2Fauth%2Fpeopleapi.readonly&response_type=code\n",
            "\n",
            "Enter your authorization code:\n",
            "··········\n",
            "Mounted at /content/drive\n"
          ],
          "name": "stdout"
        }
      ]
    },
    {
      "cell_type": "code",
      "metadata": {
        "id": "PHcXVjw4lOuy",
        "colab_type": "code",
        "colab": {}
      },
      "source": [
        "from urllib.request import urlopen\n",
        "import pandas as pd \n",
        "from bs4 import BeautifulSoup\n",
        "import urllib\n",
        "import ssl\n",
        "import time"
      ],
      "execution_count": 0,
      "outputs": []
    },
    {
      "cell_type": "code",
      "metadata": {
        "id": "np9axrk9pZKC",
        "colab_type": "code",
        "colab": {}
      },
      "source": [
        "ssl._create_default_https_context = ssl._create_unverified_context"
      ],
      "execution_count": 0,
      "outputs": []
    },
    {
      "cell_type": "code",
      "metadata": {
        "id": "VNTXtsUxn4pz",
        "colab_type": "code",
        "colab": {}
      },
      "source": [
        "url = \"https://www.doctorslounge.com/forums/\""
      ],
      "execution_count": 0,
      "outputs": []
    },
    {
      "cell_type": "code",
      "metadata": {
        "id": "BHuc6e3_lm4B",
        "colab_type": "code",
        "colab": {}
      },
      "source": [
        "html = urlopen(url)"
      ],
      "execution_count": 0,
      "outputs": []
    },
    {
      "cell_type": "code",
      "metadata": {
        "id": "gGm3Sgf7lrVq",
        "colab_type": "code",
        "colab": {}
      },
      "source": [
        "res = BeautifulSoup(html.read(),\"html5lib\")"
      ],
      "execution_count": 0,
      "outputs": []
    },
    {
      "cell_type": "code",
      "metadata": {
        "id": "jVV8OPcnYE66",
        "colab_type": "code",
        "colab": {}
      },
      "source": [
        "tags = res.findAll('a', href=True)"
      ],
      "execution_count": 0,
      "outputs": []
    },
    {
      "cell_type": "code",
      "metadata": {
        "id": "ZKVotQ0a2tN9",
        "colab_type": "code",
        "colab": {}
      },
      "source": [
        "row_strings = []\n",
        "generals_urls = []\n",
        "general_topics = []\n",
        "for i in tags:\n",
        "  if (str(i)).startswith('<a href=\"./viewforum.php?'):\n",
        "    row_strings.append(str(i))\n",
        "    generals_urls.append(url + (str(i)).replace('<a href=\"./', '').split('\">')[0])\n",
        "    general_topics.append((str(i)).replace('</a>', '').split('>')[-1])"
      ],
      "execution_count": 0,
      "outputs": []
    },
    {
      "cell_type": "code",
      "metadata": {
        "id": "2BC6tui283Kt",
        "colab_type": "code",
        "outputId": "2e8a4bbf-9e12-4e4c-fcdf-2d536b0cc52a",
        "colab": {
          "base_uri": "https://localhost:8080/",
          "height": 68
        }
      },
      "source": [
        "print(row_strings[7])\n",
        "print(generals_urls[7])\n",
        "print(general_topics[7])"
      ],
      "execution_count": 9,
      "outputs": [
        {
          "output_type": "stream",
          "text": [
            "<a href=\"./viewforum.php?f=106&amp;sid=c32a1bf0b73ffd5861a5197a986b7fbf\">Cardiology</a>\n",
            "https://www.doctorslounge.com/forums/viewforum.php?f=106&amp;sid=c32a1bf0b73ffd5861a5197a986b7fbf\n",
            "Cardiology\n"
          ],
          "name": "stdout"
        }
      ]
    },
    {
      "cell_type": "code",
      "metadata": {
        "id": "ZToy-fdsl8Qb",
        "colab_type": "code",
        "outputId": "a3e623eb-79a9-49ab-9278-ba3415c1cd69",
        "colab": {
          "base_uri": "https://localhost:8080/",
          "height": 289
        }
      },
      "source": [
        "df_general = pd.DataFrame([row_strings, generals_urls, general_topics]).T\n",
        "df_general.columns = ['row_strings', 'generals_urls', 'general_topics']\n",
        "df_general.head(5)"
      ],
      "execution_count": 10,
      "outputs": [
        {
          "output_type": "execute_result",
          "data": {
            "text/html": [
              "<div>\n",
              "<style scoped>\n",
              "    .dataframe tbody tr th:only-of-type {\n",
              "        vertical-align: middle;\n",
              "    }\n",
              "\n",
              "    .dataframe tbody tr th {\n",
              "        vertical-align: top;\n",
              "    }\n",
              "\n",
              "    .dataframe thead th {\n",
              "        text-align: right;\n",
              "    }\n",
              "</style>\n",
              "<table border=\"1\" class=\"dataframe\">\n",
              "  <thead>\n",
              "    <tr style=\"text-align: right;\">\n",
              "      <th></th>\n",
              "      <th>row_strings</th>\n",
              "      <th>generals_urls</th>\n",
              "      <th>general_topics</th>\n",
              "    </tr>\n",
              "  </thead>\n",
              "  <tbody>\n",
              "    <tr>\n",
              "      <th>0</th>\n",
              "      <td>&lt;a href=\"./viewforum.php?f=124&amp;amp;sid=c32a1bf...</td>\n",
              "      <td>https://www.doctorslounge.com/forums/viewforum...</td>\n",
              "      <td>Surgery</td>\n",
              "    </tr>\n",
              "    <tr>\n",
              "      <th>1</th>\n",
              "      <td>&lt;a href=\"./viewforum.php?f=110&amp;amp;sid=c32a1bf...</td>\n",
              "      <td>https://www.doctorslounge.com/forums/viewforum...</td>\n",
              "      <td>Kidney disorders (Nephrology)</td>\n",
              "    </tr>\n",
              "    <tr>\n",
              "      <th>2</th>\n",
              "      <td>&lt;a href=\"./viewforum.php?f=126&amp;amp;sid=c32a1bf...</td>\n",
              "      <td>https://www.doctorslounge.com/forums/viewforum...</td>\n",
              "      <td>Blood disorders (Hematology)</td>\n",
              "    </tr>\n",
              "    <tr>\n",
              "      <th>3</th>\n",
              "      <td>&lt;a href=\"./viewforum.php?f=123&amp;amp;sid=c32a1bf...</td>\n",
              "      <td>https://www.doctorslounge.com/forums/viewforum...</td>\n",
              "      <td>Hormone disorders (Endocrinology)</td>\n",
              "    </tr>\n",
              "    <tr>\n",
              "      <th>4</th>\n",
              "      <td>&lt;a href=\"./viewforum.php?f=109&amp;amp;sid=c32a1bf...</td>\n",
              "      <td>https://www.doctorslounge.com/forums/viewforum...</td>\n",
              "      <td>Pharmacy &amp;amp; Drugs</td>\n",
              "    </tr>\n",
              "  </tbody>\n",
              "</table>\n",
              "</div>"
            ],
            "text/plain": [
              "                                         row_strings  ...                     general_topics\n",
              "0  <a href=\"./viewforum.php?f=124&amp;sid=c32a1bf...  ...                            Surgery\n",
              "1  <a href=\"./viewforum.php?f=110&amp;sid=c32a1bf...  ...      Kidney disorders (Nephrology)\n",
              "2  <a href=\"./viewforum.php?f=126&amp;sid=c32a1bf...  ...       Blood disorders (Hematology)\n",
              "3  <a href=\"./viewforum.php?f=123&amp;sid=c32a1bf...  ...  Hormone disorders (Endocrinology)\n",
              "4  <a href=\"./viewforum.php?f=109&amp;sid=c32a1bf...  ...               Pharmacy &amp; Drugs\n",
              "\n",
              "[5 rows x 3 columns]"
            ]
          },
          "metadata": {
            "tags": []
          },
          "execution_count": 10
        }
      ]
    },
    {
      "cell_type": "code",
      "metadata": {
        "id": "sSpTAKQBH73n",
        "colab_type": "code",
        "colab": {}
      },
      "source": [
        "df_general = df_general[(df_general['general_topics'] !='Pharmacy &amp; Drugs') & \n",
        "                        (df_general['general_topics'] != 'Job Center') &\n",
        "                        (df_general['general_topics'] != 'Miscellaneous Medical Topics') &\n",
        "                        (df_general['general_topics'] != 'Medical Students') &\n",
        "                        (df_general['general_topics'] != 'Pediatrics')]"
      ],
      "execution_count": 0,
      "outputs": []
    },
    {
      "cell_type": "code",
      "metadata": {
        "id": "ByJpbmjEHYbS",
        "colab_type": "code",
        "colab": {}
      },
      "source": [
        "filtered_general_urls = list(df_general['generals_urls'])"
      ],
      "execution_count": 0,
      "outputs": []
    },
    {
      "cell_type": "code",
      "metadata": {
        "id": "GJbBhZt-1PI6",
        "colab_type": "code",
        "colab": {}
      },
      "source": [
        "lista_url = []\n",
        "generals_urls1 = []\n",
        "\n",
        "for i in filtered_general_urls:\n",
        "  url_gen = i\n",
        "  html_gen = urlopen(url_gen)\n",
        "  res_gen = BeautifulSoup(html_gen.read(),\"html5lib\")\n",
        "  tags_gen = res_gen.findAll('a', href=True)\n",
        "  for e in tags_gen:\n",
        "    if (str(e)).startswith('<a class=\"forumtitle\" href=\"./viewforum.php') or (str(e)).startswith('<a class=\"topictitle\" href=\"./viewtopic.php'):\n",
        "      string = str(e)\n",
        "      lista_url.append(string)\n",
        "      generals_urls1.append(i)\n",
        "\n",
        " "
      ],
      "execution_count": 0,
      "outputs": []
    },
    {
      "cell_type": "code",
      "metadata": {
        "id": "TILl2fy74xVq",
        "colab_type": "code",
        "colab": {}
      },
      "source": [
        "lista_url_ = [url + i.replace('<a class=\"forumtitle\" href=\"./', '').replace('<a class=\"topictitle\" href=\"./', '').split('\">')[0] for i in lista_url]\n",
        "lista_nombres = [e.replace(\"</a>\", \"\").split(\">\")[-1] for e in lista_url]\n"
      ],
      "execution_count": 0,
      "outputs": []
    },
    {
      "cell_type": "code",
      "metadata": {
        "id": "ktV8Fu6E7bOw",
        "colab_type": "code",
        "outputId": "9ff64b26-182c-4ed0-8088-4339127e9ce8",
        "colab": {
          "base_uri": "https://localhost:8080/",
          "height": 68
        }
      },
      "source": [
        "print(lista_url_[7])\n",
        "print(lista_nombres[7])\n",
        "print(generals_urls1[7])"
      ],
      "execution_count": 15,
      "outputs": [
        {
          "output_type": "stream",
          "text": [
            "https://www.doctorslounge.com/forums/viewforum.php?f=87&amp;sid=5542beed1328135aa572b66cf760f2cd\n",
            "Hematology Topics\n",
            "https://www.doctorslounge.com/forums/viewforum.php?f=126&amp;sid=c32a1bf0b73ffd5861a5197a986b7fbf\n"
          ],
          "name": "stdout"
        }
      ]
    },
    {
      "cell_type": "code",
      "metadata": {
        "id": "7LR5ez_79K86",
        "colab_type": "code",
        "outputId": "72d7f5e7-50f2-47c4-ac3e-0dc213166f6d",
        "colab": {
          "base_uri": "https://localhost:8080/",
          "height": 204
        }
      },
      "source": [
        "df_specific = pd.DataFrame([lista_nombres, lista_url_, generals_urls1]).T\n",
        "df_specific.columns = ['specific_topics', 'specific_url', 'generals_urls_aux']\n",
        "df_specific.head(5)"
      ],
      "execution_count": 16,
      "outputs": [
        {
          "output_type": "execute_result",
          "data": {
            "text/html": [
              "<div>\n",
              "<style scoped>\n",
              "    .dataframe tbody tr th:only-of-type {\n",
              "        vertical-align: middle;\n",
              "    }\n",
              "\n",
              "    .dataframe tbody tr th {\n",
              "        vertical-align: top;\n",
              "    }\n",
              "\n",
              "    .dataframe thead th {\n",
              "        text-align: right;\n",
              "    }\n",
              "</style>\n",
              "<table border=\"1\" class=\"dataframe\">\n",
              "  <thead>\n",
              "    <tr style=\"text-align: right;\">\n",
              "      <th></th>\n",
              "      <th>specific_topics</th>\n",
              "      <th>specific_url</th>\n",
              "      <th>generals_urls_aux</th>\n",
              "    </tr>\n",
              "  </thead>\n",
              "  <tbody>\n",
              "    <tr>\n",
              "      <th>0</th>\n",
              "      <td>Surgery Topics</td>\n",
              "      <td>https://www.doctorslounge.com/forums/viewforum...</td>\n",
              "      <td>https://www.doctorslounge.com/forums/viewforum...</td>\n",
              "    </tr>\n",
              "    <tr>\n",
              "      <th>1</th>\n",
              "      <td>Renal Failure</td>\n",
              "      <td>https://www.doctorslounge.com/forums/viewforum...</td>\n",
              "      <td>https://www.doctorslounge.com/forums/viewforum...</td>\n",
              "    </tr>\n",
              "    <tr>\n",
              "      <th>2</th>\n",
              "      <td>Nephrotic Syndrome</td>\n",
              "      <td>https://www.doctorslounge.com/forums/viewforum...</td>\n",
              "      <td>https://www.doctorslounge.com/forums/viewforum...</td>\n",
              "    </tr>\n",
              "    <tr>\n",
              "      <th>3</th>\n",
              "      <td>Glomerulonephritis</td>\n",
              "      <td>https://www.doctorslounge.com/forums/viewforum...</td>\n",
              "      <td>https://www.doctorslounge.com/forums/viewforum...</td>\n",
              "    </tr>\n",
              "    <tr>\n",
              "      <th>4</th>\n",
              "      <td>Dialysis</td>\n",
              "      <td>https://www.doctorslounge.com/forums/viewforum...</td>\n",
              "      <td>https://www.doctorslounge.com/forums/viewforum...</td>\n",
              "    </tr>\n",
              "  </tbody>\n",
              "</table>\n",
              "</div>"
            ],
            "text/plain": [
              "      specific_topics  ...                                  generals_urls_aux\n",
              "0      Surgery Topics  ...  https://www.doctorslounge.com/forums/viewforum...\n",
              "1       Renal Failure  ...  https://www.doctorslounge.com/forums/viewforum...\n",
              "2  Nephrotic Syndrome  ...  https://www.doctorslounge.com/forums/viewforum...\n",
              "3  Glomerulonephritis  ...  https://www.doctorslounge.com/forums/viewforum...\n",
              "4            Dialysis  ...  https://www.doctorslounge.com/forums/viewforum...\n",
              "\n",
              "[5 rows x 3 columns]"
            ]
          },
          "metadata": {
            "tags": []
          },
          "execution_count": 16
        }
      ]
    },
    {
      "cell_type": "code",
      "metadata": {
        "id": "tayghpbq-EhM",
        "colab_type": "code",
        "colab": {}
      },
      "source": [
        "df_extended = pd.merge(df_specific, df_general, how = 'left',\n",
        "                       left_on = 'generals_urls_aux',\n",
        "                       right_on = 'generals_urls')\n"
      ],
      "execution_count": 0,
      "outputs": []
    },
    {
      "cell_type": "code",
      "metadata": {
        "id": "KldSVNkG-h1J",
        "colab_type": "code",
        "colab": {}
      },
      "source": [
        "topics_in_specific = []\n",
        "specific_url = []\n",
        "for i in lista_url_:\n",
        "  url_gen = i\n",
        "  html_gen = urlopen(url_gen)\n",
        "  res_gen = BeautifulSoup(html_gen.read(),\"html5lib\")\n",
        "  tags_gen = res_gen.findAll('a', href=True)\n",
        "  for e in tags_gen:\n",
        "    string = str(e)\n",
        "    if string.startswith('<a class=\"topictitle\" href=\"./viewtopic.php'):\n",
        "      topics_in_specific.append(string)\n",
        "      specific_url.append(i)\n"
      ],
      "execution_count": 0,
      "outputs": []
    },
    {
      "cell_type": "code",
      "metadata": {
        "id": "f-lWNAzaGUCW",
        "colab_type": "code",
        "colab": {}
      },
      "source": [
        "topics_inspec_links = [url + i.replace('<a class=\"topictitle\" href=\"./', '').split('&amp;sid')[0].replace('amp;', '') for i in topics_in_specific] "
      ],
      "execution_count": 0,
      "outputs": []
    },
    {
      "cell_type": "code",
      "metadata": {
        "id": "vJoXL_FYPSVY",
        "colab_type": "code",
        "outputId": "15805e3d-7454-4a67-bdcd-5f12a47caffc",
        "colab": {
          "base_uri": "https://localhost:8080/",
          "height": 204
        }
      },
      "source": [
        "df_last_url = pd.DataFrame([specific_url, topics_inspec_links]).T\n",
        "df_last_url.columns = ['url_aux', 'texts_url']\n",
        "df_last_url.head()"
      ],
      "execution_count": 20,
      "outputs": [
        {
          "output_type": "execute_result",
          "data": {
            "text/html": [
              "<div>\n",
              "<style scoped>\n",
              "    .dataframe tbody tr th:only-of-type {\n",
              "        vertical-align: middle;\n",
              "    }\n",
              "\n",
              "    .dataframe tbody tr th {\n",
              "        vertical-align: top;\n",
              "    }\n",
              "\n",
              "    .dataframe thead th {\n",
              "        text-align: right;\n",
              "    }\n",
              "</style>\n",
              "<table border=\"1\" class=\"dataframe\">\n",
              "  <thead>\n",
              "    <tr style=\"text-align: right;\">\n",
              "      <th></th>\n",
              "      <th>url_aux</th>\n",
              "      <th>texts_url</th>\n",
              "    </tr>\n",
              "  </thead>\n",
              "  <tbody>\n",
              "    <tr>\n",
              "      <th>0</th>\n",
              "      <td>https://www.doctorslounge.com/forums/viewforum...</td>\n",
              "      <td>https://www.doctorslounge.com/forums/viewtopic...</td>\n",
              "    </tr>\n",
              "    <tr>\n",
              "      <th>1</th>\n",
              "      <td>https://www.doctorslounge.com/forums/viewforum...</td>\n",
              "      <td>https://www.doctorslounge.com/forums/viewtopic...</td>\n",
              "    </tr>\n",
              "    <tr>\n",
              "      <th>2</th>\n",
              "      <td>https://www.doctorslounge.com/forums/viewforum...</td>\n",
              "      <td>https://www.doctorslounge.com/forums/viewtopic...</td>\n",
              "    </tr>\n",
              "    <tr>\n",
              "      <th>3</th>\n",
              "      <td>https://www.doctorslounge.com/forums/viewforum...</td>\n",
              "      <td>https://www.doctorslounge.com/forums/viewtopic...</td>\n",
              "    </tr>\n",
              "    <tr>\n",
              "      <th>4</th>\n",
              "      <td>https://www.doctorslounge.com/forums/viewforum...</td>\n",
              "      <td>https://www.doctorslounge.com/forums/viewtopic...</td>\n",
              "    </tr>\n",
              "  </tbody>\n",
              "</table>\n",
              "</div>"
            ],
            "text/plain": [
              "                                             url_aux                                          texts_url\n",
              "0  https://www.doctorslounge.com/forums/viewforum...  https://www.doctorslounge.com/forums/viewtopic...\n",
              "1  https://www.doctorslounge.com/forums/viewforum...  https://www.doctorslounge.com/forums/viewtopic...\n",
              "2  https://www.doctorslounge.com/forums/viewforum...  https://www.doctorslounge.com/forums/viewtopic...\n",
              "3  https://www.doctorslounge.com/forums/viewforum...  https://www.doctorslounge.com/forums/viewtopic...\n",
              "4  https://www.doctorslounge.com/forums/viewforum...  https://www.doctorslounge.com/forums/viewtopic..."
            ]
          },
          "metadata": {
            "tags": []
          },
          "execution_count": 20
        }
      ]
    },
    {
      "cell_type": "code",
      "metadata": {
        "id": "QwaP1AeADq2n",
        "colab_type": "code",
        "colab": {}
      },
      "source": [
        "df_last_url = pd.merge(df_last_url, df_extended, how = 'left',\n",
        "                       left_on = 'url_aux',\n",
        "                       right_on = 'specific_url')"
      ],
      "execution_count": 0,
      "outputs": []
    },
    {
      "cell_type": "code",
      "metadata": {
        "id": "rEHijkRER_ZB",
        "colab_type": "code",
        "outputId": "33cb5137-03e8-4518-90c4-0685fba3e785",
        "colab": {
          "base_uri": "https://localhost:8080/",
          "height": 213
        }
      },
      "source": [
        "df_last_url.head(3)"
      ],
      "execution_count": 22,
      "outputs": [
        {
          "output_type": "execute_result",
          "data": {
            "text/html": [
              "<div>\n",
              "<style scoped>\n",
              "    .dataframe tbody tr th:only-of-type {\n",
              "        vertical-align: middle;\n",
              "    }\n",
              "\n",
              "    .dataframe tbody tr th {\n",
              "        vertical-align: top;\n",
              "    }\n",
              "\n",
              "    .dataframe thead th {\n",
              "        text-align: right;\n",
              "    }\n",
              "</style>\n",
              "<table border=\"1\" class=\"dataframe\">\n",
              "  <thead>\n",
              "    <tr style=\"text-align: right;\">\n",
              "      <th></th>\n",
              "      <th>url_aux</th>\n",
              "      <th>texts_url</th>\n",
              "      <th>specific_topics</th>\n",
              "      <th>specific_url</th>\n",
              "      <th>generals_urls_aux</th>\n",
              "      <th>row_strings</th>\n",
              "      <th>generals_urls</th>\n",
              "      <th>general_topics</th>\n",
              "    </tr>\n",
              "  </thead>\n",
              "  <tbody>\n",
              "    <tr>\n",
              "      <th>0</th>\n",
              "      <td>https://www.doctorslounge.com/forums/viewforum...</td>\n",
              "      <td>https://www.doctorslounge.com/forums/viewtopic...</td>\n",
              "      <td>Surgery Topics</td>\n",
              "      <td>https://www.doctorslounge.com/forums/viewforum...</td>\n",
              "      <td>https://www.doctorslounge.com/forums/viewforum...</td>\n",
              "      <td>&lt;a href=\"./viewforum.php?f=124&amp;amp;sid=c32a1bf...</td>\n",
              "      <td>https://www.doctorslounge.com/forums/viewforum...</td>\n",
              "      <td>Surgery</td>\n",
              "    </tr>\n",
              "    <tr>\n",
              "      <th>1</th>\n",
              "      <td>https://www.doctorslounge.com/forums/viewforum...</td>\n",
              "      <td>https://www.doctorslounge.com/forums/viewtopic...</td>\n",
              "      <td>Surgery Topics</td>\n",
              "      <td>https://www.doctorslounge.com/forums/viewforum...</td>\n",
              "      <td>https://www.doctorslounge.com/forums/viewforum...</td>\n",
              "      <td>&lt;a href=\"./viewforum.php?f=124&amp;amp;sid=c32a1bf...</td>\n",
              "      <td>https://www.doctorslounge.com/forums/viewforum...</td>\n",
              "      <td>Surgery</td>\n",
              "    </tr>\n",
              "    <tr>\n",
              "      <th>2</th>\n",
              "      <td>https://www.doctorslounge.com/forums/viewforum...</td>\n",
              "      <td>https://www.doctorslounge.com/forums/viewtopic...</td>\n",
              "      <td>Surgery Topics</td>\n",
              "      <td>https://www.doctorslounge.com/forums/viewforum...</td>\n",
              "      <td>https://www.doctorslounge.com/forums/viewforum...</td>\n",
              "      <td>&lt;a href=\"./viewforum.php?f=124&amp;amp;sid=c32a1bf...</td>\n",
              "      <td>https://www.doctorslounge.com/forums/viewforum...</td>\n",
              "      <td>Surgery</td>\n",
              "    </tr>\n",
              "  </tbody>\n",
              "</table>\n",
              "</div>"
            ],
            "text/plain": [
              "                                             url_aux  ... general_topics\n",
              "0  https://www.doctorslounge.com/forums/viewforum...  ...        Surgery\n",
              "1  https://www.doctorslounge.com/forums/viewforum...  ...        Surgery\n",
              "2  https://www.doctorslounge.com/forums/viewforum...  ...        Surgery\n",
              "\n",
              "[3 rows x 8 columns]"
            ]
          },
          "metadata": {
            "tags": []
          },
          "execution_count": 22
        }
      ]
    },
    {
      "cell_type": "code",
      "metadata": {
        "id": "e0xJ_HbsTC0R",
        "colab_type": "code",
        "colab": {}
      },
      "source": [
        "  html_gen = urlopen('https://www.doctorslounge.com/forums/viewtopic.php?f=84&t=50736')\n",
        "  res_gen = BeautifulSoup(html_gen.read(),\"html5lib\")\n",
        "  tags_gen = res_gen.findAll('div', {'class':'content'})"
      ],
      "execution_count": 0,
      "outputs": []
    },
    {
      "cell_type": "code",
      "metadata": {
        "id": "oCYkIfSEF6tI",
        "colab_type": "code",
        "colab": {}
      },
      "source": [
        "row_texts = []\n",
        "url_aux = []\n",
        "for i in list(df_last_url.texts_url):\n",
        "#  t0 = time.time()\n",
        "  html_gen = urlopen(i)\n",
        "  res_gen = BeautifulSoup(html_gen.read(),\"html5lib\")\n",
        "  tags_gen = res_gen.findAll('div', {'class':'content'})\n",
        "  string = str(tags_gen)\n",
        "  row_texts.append(string.split('<div class=\"content\">')[1].replace('<br/>', '').replace('</div>','').replace('\\n', '').replace(']', ''))\n",
        "  url_aux.append(i)\n",
        "#  response_delay = time.time() - t0\n",
        "#  time.sleep(5*response_delay)"
      ],
      "execution_count": 0,
      "outputs": []
    },
    {
      "cell_type": "code",
      "metadata": {
        "id": "3JaPigeWN0GS",
        "colab_type": "code",
        "colab": {
          "base_uri": "https://localhost:8080/",
          "height": 54
        },
        "outputId": "a43739b2-a0a0-4196-9cf7-d3c06dcc6853"
      },
      "source": [
        "row_texts[5000]"
      ],
      "execution_count": 26,
      "outputs": [
        {
          "output_type": "execute_result",
          "data": {
            "text/plain": [
              "'First off I don\\'t know if this is the proper category for this question....sorry if it isn\\'t.Ok, I\\'m 26 years of age never touched alcohol until I was at the age of 23 , I\\'m in no way an alcoholic , I drink only on the weekend and now down to only one day a week. I go out with my friends we have drinks we all usually get \"drunk\"...now here\\'s my question...When I first started drinking it effected me almost not at all, if always be clear headed when drinking .... I could drink all night if I wanted to and it would almost never effect me ...unless I drank stupidly and just blacked out when I\\'ve never done... Well about a year ago I was drinking as usual the night was fine I came home when to bed and it seemed like something drastically switched inside of me .... Not like a hangover feeling like something else was wrong... From that day on , when I drink it effects me a lot... I get drunk much quicker ... I always feel bad the next day when before I felt no hangover effects ....and it seems like it\\'s getting worse and worse everytime i drink ...even though the amount of times I drink monthly has reduced drastically.  I drank last night for the first time in I\\'d say 3 weeks but it felt progressively worse than the last time I had drank.  Could there be maybe a kidney or liver failure? Of does this just happen to everyone after they have been drinking for a while? Thanks, K, '"
            ]
          },
          "metadata": {
            "tags": []
          },
          "execution_count": 26
        }
      ]
    },
    {
      "cell_type": "code",
      "metadata": {
        "id": "pq28fKdiN7Fp",
        "colab_type": "code",
        "colab": {}
      },
      "source": [
        "df_texts = pd.DataFrame([row_texts, url_aux]).T\n",
        "df_texts.columns = ['row_text', 'row_text_aux']"
      ],
      "execution_count": 0,
      "outputs": []
    },
    {
      "cell_type": "code",
      "metadata": {
        "id": "Fg5laxxOOSJ1",
        "colab_type": "code",
        "colab": {
          "base_uri": "https://localhost:8080/",
          "height": 204
        },
        "outputId": "0f17d10f-c774-4cc6-d918-551622d712ca"
      },
      "source": [
        "df_texts.head(5)"
      ],
      "execution_count": 30,
      "outputs": [
        {
          "output_type": "execute_result",
          "data": {
            "text/html": [
              "<div>\n",
              "<style scoped>\n",
              "    .dataframe tbody tr th:only-of-type {\n",
              "        vertical-align: middle;\n",
              "    }\n",
              "\n",
              "    .dataframe tbody tr th {\n",
              "        vertical-align: top;\n",
              "    }\n",
              "\n",
              "    .dataframe thead th {\n",
              "        text-align: right;\n",
              "    }\n",
              "</style>\n",
              "<table border=\"1\" class=\"dataframe\">\n",
              "  <thead>\n",
              "    <tr style=\"text-align: right;\">\n",
              "      <th></th>\n",
              "      <th>row_text</th>\n",
              "      <th>row_text_aux</th>\n",
              "    </tr>\n",
              "  </thead>\n",
              "  <tbody>\n",
              "    <tr>\n",
              "      <th>0</th>\n",
              "      <td>I had my leg fractured in 2005; fibula was bro...</td>\n",
              "      <td>https://www.doctorslounge.com/forums/viewtopic...</td>\n",
              "    </tr>\n",
              "    <tr>\n",
              "      <th>1</th>\n",
              "      <td>Hello. I am a young woman with cerebral palsy,...</td>\n",
              "      <td>https://www.doctorslounge.com/forums/viewtopic...</td>\n",
              "    </tr>\n",
              "    <tr>\n",
              "      <th>2</th>\n",
              "      <td>Hello, I’m a 59-year-old Caucasian female in o...</td>\n",
              "      <td>https://www.doctorslounge.com/forums/viewtopic...</td>\n",
              "    </tr>\n",
              "    <tr>\n",
              "      <th>3</th>\n",
              "      <td>I have had two hernia surgeries years ago. The...</td>\n",
              "      <td>https://www.doctorslounge.com/forums/viewtopic...</td>\n",
              "    </tr>\n",
              "    <tr>\n",
              "      <th>4</th>\n",
              "      <td>I'm not sure if this is normal or not. It feel...</td>\n",
              "      <td>https://www.doctorslounge.com/forums/viewtopic...</td>\n",
              "    </tr>\n",
              "  </tbody>\n",
              "</table>\n",
              "</div>"
            ],
            "text/plain": [
              "                                            row_text                                       row_text_aux\n",
              "0  I had my leg fractured in 2005; fibula was bro...  https://www.doctorslounge.com/forums/viewtopic...\n",
              "1  Hello. I am a young woman with cerebral palsy,...  https://www.doctorslounge.com/forums/viewtopic...\n",
              "2  Hello, I’m a 59-year-old Caucasian female in o...  https://www.doctorslounge.com/forums/viewtopic...\n",
              "3  I have had two hernia surgeries years ago. The...  https://www.doctorslounge.com/forums/viewtopic...\n",
              "4  I'm not sure if this is normal or not. It feel...  https://www.doctorslounge.com/forums/viewtopic..."
            ]
          },
          "metadata": {
            "tags": []
          },
          "execution_count": 30
        }
      ]
    },
    {
      "cell_type": "code",
      "metadata": {
        "id": "AqZgWCe7TuqC",
        "colab_type": "code",
        "colab": {}
      },
      "source": [
        "final_df = pd.merge(df_last_url, df_texts, how = 'left',\n",
        "                    left_on = 'texts_url',\n",
        "                    right_on = 'row_text_aux')\n"
      ],
      "execution_count": 0,
      "outputs": []
    },
    {
      "cell_type": "code",
      "metadata": {
        "id": "qduUbl99O6DN",
        "colab_type": "code",
        "colab": {}
      },
      "source": [
        "df_row = final_df.to_excel('symptoms_row.xlsx')"
      ],
      "execution_count": 0,
      "outputs": []
    }
  ]
}
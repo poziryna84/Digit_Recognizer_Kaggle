{
 "cells": [
  {
   "cell_type": "markdown",
   "metadata": {},
   "source": [
    "# Digit recognizer. Part 3. Neural Network."
   ]
  },
  {
   "cell_type": "markdown",
   "metadata": {},
   "source": [
    "# Loading packages and data."
   ]
  },
  {
   "cell_type": "code",
   "execution_count": 1,
   "metadata": {},
   "outputs": [
    {
     "name": "stderr",
     "output_type": "stream",
     "text": [
      "C:\\Users\\pozir\\AppData\\Local\\Continuum\\Anaconda3\\lib\\site-packages\\h5py\\__init__.py:34: FutureWarning: Conversion of the second argument of issubdtype from `float` to `np.floating` is deprecated. In future, it will be treated as `np.float64 == np.dtype(float).type`.\n",
      "  from ._conv import register_converters as _register_converters\n",
      "Using TensorFlow backend.\n"
     ]
    }
   ],
   "source": [
    "import pandas as pd\n",
    "import numpy  as np\n",
    "from sklearn.model_selection import train_test_split, GridSearchCV\n",
    "import matplotlib.pyplot as plt, matplotlib.image as mpimg\n",
    "%matplotlib inline\n",
    "import keras\n",
    "import keras\n",
    "from keras.models import  Sequential\n",
    "from keras.layers.core import  Lambda , Dense, Flatten, Dropout\n",
    "from keras.callbacks import EarlyStopping\n",
    "from keras.layers import BatchNormalization, Convolution2D , MaxPooling2D\n",
    "from keras.utils.np_utils import to_categorical\n",
    "from keras.optimizers import SGD\n",
    "from keras.callbacks import EarlyStopping\n",
    "from numpy.random import seed"
   ]
  },
  {
   "cell_type": "code",
   "execution_count": 2,
   "metadata": {
    "collapsed": true
   },
   "outputs": [],
   "source": [
    "df_train = pd.read_csv(\"C:/Users/pozir/OneDrive/Documentos/XDigit_Recognizer/train.csv\")\n",
    "df_test = pd.read_csv(\"C:/Users/pozir/OneDrive/Documentos/XDigit_Recognizer/test.csv\")"
   ]
  },
  {
   "cell_type": "markdown",
   "metadata": {},
   "source": [
    "## Creating arrays for the features and the response variable and dividing them into train and hold out sets.\n"
   ]
  },
  {
   "cell_type": "code",
   "execution_count": 3,
   "metadata": {
    "collapsed": true
   },
   "outputs": [],
   "source": [
    "X=df_train.iloc[5000:55000,1:]\n",
    "y=df_train.iloc[5000:55000,:1]"
   ]
  },
  {
   "cell_type": "markdown",
   "metadata": {},
   "source": [
    "### Making the images true black and white to simplify the task"
   ]
  },
  {
   "cell_type": "code",
   "execution_count": 4,
   "metadata": {
    "collapsed": true
   },
   "outputs": [],
   "source": [
    "X[X>0]=1\n"
   ]
  },
  {
   "cell_type": "code",
   "execution_count": 51,
   "metadata": {
    "collapsed": true
   },
   "outputs": [],
   "source": [
    "X_test=df_test.iloc[:,:]"
   ]
  },
  {
   "cell_type": "code",
   "execution_count": null,
   "metadata": {
    "collapsed": true
   },
   "outputs": [],
   "source": [
    "X = (X.iloc[:,:].values).astype('float32')\n",
    "\n",
    "y=(y.iloc[:,0].values).astype('int32')"
   ]
  },
  {
   "cell_type": "code",
   "execution_count": 11,
   "metadata": {},
   "outputs": [
    {
     "data": {
      "text/plain": [
       "<matplotlib.text.Text at 0x1d9a2affda0>"
      ]
     },
     "execution_count": 11,
     "metadata": {},
     "output_type": "execute_result"
    },
    {
     "data": {
      "image/png": "[encoded data removed]",
      "text/plain": [
       "<matplotlib.figure.Figure at 0x1d9a2aa52b0>"
      ]
     },
     "metadata": {},
     "output_type": "display_data"
    }
   ],
   "source": [
    "i=9\n",
    "img=X[i]\n",
    "img=img.reshape((28,28))\n",
    "plt.imshow(img,cmap='pink')\n",
    "plt.title(X[i,0])"
   ]
  },
  {
   "cell_type": "code",
   "execution_count": 13,
   "metadata": {},
   "outputs": [
    {
     "data": {
      "text/plain": [
       "(array([647.,   0.,   0.,   0.,   0.,   0.,   0.,   0.,   0., 137.]),\n",
       " array([0. , 0.1, 0.2, 0.3, 0.4, 0.5, 0.6, 0.7, 0.8, 0.9, 1. ]),\n",
       " <a list of 10 Patch objects>)"
      ]
     },
     "execution_count": 13,
     "metadata": {},
     "output_type": "execute_result"
    },
    {
     "data": {
      "image/png": "[encoded data removed]",
      "text/plain": [
       "<matplotlib.figure.Figure at 0x1d9a2acdda0>"
      ]
     },
     "metadata": {},
     "output_type": "display_data"
    }
   ],
   "source": [
    "plt.hist(X[i])"
   ]
  },
  {
   "cell_type": "code",
   "execution_count": 14,
   "metadata": {
    "collapsed": true
   },
   "outputs": [],
   "source": [
    "y = to_categorical(y)"
   ]
  },
  {
   "cell_type": "markdown",
   "metadata": {},
   "source": [
    "### Specifying, compiling and fitting a model"
   ]
  },
  {
   "cell_type": "code",
   "execution_count": 15,
   "metadata": {},
   "outputs": [
    {
     "name": "stdout",
     "output_type": "stream",
     "text": [
      "Epoch 1/1\n",
      "37000/37000 [==============================] - 15s 404us/step - loss: 0.6207 - acc: 0.8435\n"
     ]
    },
    {
     "data": {
      "text/plain": [
       "<keras.callbacks.History at 0x1d9a2c6cdd8>"
      ]
     },
     "execution_count": 15,
     "metadata": {},
     "output_type": "execute_result"
    }
   ],
   "source": [
    "# Save the number of columns in predictors: n_cols\n",
    "n_cols = X.shape[1] # that´s how many nodes there will be in the input layer\n",
    "# Set up the model\n",
    "model = Sequential() # Sequential model requires that each layer has weight/connection only to the one layer coming after it.\n",
    "\n",
    "# Add the first layer\n",
    "model.add(Dense(1000, activation='relu', input_shape=(n_cols,))) # adding 1st layer (with 100000 nodes). It is called \"dense\"\n",
    "                                                                   # because all the nodes in in the previous layer connect\n",
    "                                                                   # to all the nodes in the current layer                                                                 # current layer\n",
    "\n",
    "# Add the output layer\n",
    "model.add(Dense(10, activation='softmax')) # adding last/output layer with only 10 nodes as that´s how many output nodes we have.\n",
    "\n",
    "# Compile the model\n",
    "model.compile(optimizer='sgd', loss='categorical_crossentropy', metrics=['accuracy'])\n",
    "\n",
    "# Fit the model\n",
    "\n",
    "model.fit(X, y)"
   ]
  },
  {
   "cell_type": "code",
   "execution_count": 16,
   "metadata": {},
   "outputs": [
    {
     "name": "stdout",
     "output_type": "stream",
     "text": [
      "input shape  (None, 784)\n",
      "output shape  (None, 10)\n"
     ]
    }
   ],
   "source": [
    "print(\"input shape \",model.input_shape)\n",
    "print(\"output shape \",model.output_shape)"
   ]
  },
  {
   "cell_type": "code",
   "execution_count": 17,
   "metadata": {},
   "outputs": [
    {
     "name": "stdout",
     "output_type": "stream",
     "text": [
      "_________________________________________________________________\n",
      "Layer (type)                 Output Shape              Param #   \n",
      "=================================================================\n",
      "dense_1 (Dense)              (None, 1000)              785000    \n",
      "_________________________________________________________________\n",
      "dense_2 (Dense)              (None, 10)                10010     \n",
      "=================================================================\n",
      "Total params: 795,010\n",
      "Trainable params: 795,010\n",
      "Non-trainable params: 0\n",
      "_________________________________________________________________\n"
     ]
    }
   ],
   "source": [
    "model.summary()"
   ]
  },
  {
   "cell_type": "markdown",
   "metadata": {},
   "source": [
    "### Changing optimization parameters"
   ]
  },
  {
   "cell_type": "code",
   "execution_count": 32,
   "metadata": {
    "collapsed": true
   },
   "outputs": [],
   "source": [
    "# A function that creates model\n",
    "\n",
    "def get_new_model(input_shape=(n_cols,)):\n",
    "    model = Sequential() \n",
    "    model.add(Dense(1000, activation='relu', input_shape=(n_cols,)))                                                              \n",
    "    model.add(Dense(1000, activation='relu')) \n",
    "    model.add(Dense(10, activation='softmax'))\n",
    "    return(model)"
   ]
  },
  {
   "cell_type": "code",
   "execution_count": 36,
   "metadata": {},
   "outputs": [
    {
     "name": "stdout",
     "output_type": "stream",
     "text": [
      "\n",
      "\n",
      "Testing model with learning rate: 0.500000\n",
      "\n",
      "Epoch 1/1\n",
      "37000/37000 [==============================] - 34s 911us/step - loss: 14.3218\n",
      "\n",
      "\n",
      "Testing model with learning rate: 0.010000\n",
      "\n",
      "Epoch 1/1\n",
      "37000/37000 [==============================] - 35s 936us/step - loss: 0.5782\n",
      "\n",
      "\n",
      "Testing model with learning rate: 0.100000\n",
      "\n",
      "Epoch 1/1\n",
      "37000/37000 [==============================] - 35s 938us/step - loss: 0.2900\n",
      "\n",
      "\n",
      "Testing model with learning rate: 0.010000\n",
      "\n",
      "Epoch 1/1\n",
      "37000/37000 [==============================] - 35s 938us/step - loss: 0.5732\n"
     ]
    }
   ],
   "source": [
    "# Create list of learning rates: lr_to_test\n",
    "lr_to_test = [.5, 0.01, 0.1, .01]\n",
    "# Loop over learning rates\n",
    "for lr in lr_to_test:\n",
    "    print('\\n\\nTesting model with learning rate: %f\\n'%lr )\n",
    "    \n",
    "    # Build new model to test, unaffected by previous models\n",
    "    model = get_new_model(input_shape=n_cols)\n",
    "    \n",
    "    # Create SGD optimizer with specified learning rate: my_optimizer\n",
    "    my_optimizer = SGD(lr=lr)\n",
    "    \n",
    "    # Compile the model\n",
    "    model.compile(optimizer=my_optimizer, loss='categorical_crossentropy')\n",
    "  \n",
    "    # Fit the model\n",
    "    model.fit(X, y)\n"
   ]
  },
  {
   "cell_type": "markdown",
   "metadata": {},
   "source": [
    " The best result seems to be with the learning rate 0.010000"
   ]
  },
  {
   "cell_type": "markdown",
   "metadata": {},
   "source": [
    "### Validation in deep learning & Early stopping: Optimizing the optimization"
   ]
  },
  {
   "cell_type": "markdown",
   "metadata": {},
   "source": [
    "- Deep learning is widely used on large datasets\n",
    "\n",
    "- Therefore validation split rather than cross-validation\n",
    "\n",
    "- Single validation score based on a large ammount of data is realible enough\n",
    "\n",
    "- We can use early stopping to stop optimization when it isn't helping any more. \n",
    "  Since the optimization stops automatically when it isn't helping, we can also set a high value for epochs in our call to .fit()"
   ]
  },
  {
   "cell_type": "markdown",
   "metadata": {},
   "source": [
    "## Base model"
   ]
  },
  {
   "cell_type": "code",
   "execution_count": 37,
   "metadata": {},
   "outputs": [
    {
     "name": "stdout",
     "output_type": "stream",
     "text": [
      "Train on 25900 samples, validate on 11100 samples\n",
      "Epoch 1/30\n",
      "25900/25900 [==============================] - 3s 100us/step - loss: 0.9297 - acc: 0.7483 - val_loss: 0.4990 - val_acc: 0.8669\n",
      "Epoch 2/30\n",
      "25900/25900 [==============================] - 2s 71us/step - loss: 0.4373 - acc: 0.8769 - val_loss: 0.3879 - val_acc: 0.8891\n",
      "Epoch 3/30\n",
      "25900/25900 [==============================] - 2s 93us/step - loss: 0.3685 - acc: 0.8946 - val_loss: 0.3430 - val_acc: 0.9023\n",
      "Epoch 4/30\n",
      "25900/25900 [==============================] - 2s 73us/step - loss: 0.3349 - acc: 0.9020 - val_loss: 0.3291 - val_acc: 0.9030\n",
      "Epoch 5/30\n",
      "25900/25900 [==============================] - 2s 76us/step - loss: 0.3126 - acc: 0.9086 - val_loss: 0.3003 - val_acc: 0.9109\n",
      "Epoch 6/30\n",
      "25900/25900 [==============================] - 2s 79us/step - loss: 0.2950 - acc: 0.9135 - val_loss: 0.2900 - val_acc: 0.9140\n",
      "Epoch 7/30\n",
      "25900/25900 [==============================] - 2s 74us/step - loss: 0.2794 - acc: 0.9188 - val_loss: 0.2740 - val_acc: 0.9208\n",
      "Epoch 8/30\n",
      "25900/25900 [==============================] - 2s 75us/step - loss: 0.2658 - acc: 0.9223 - val_loss: 0.2662 - val_acc: 0.9207\n",
      "Epoch 9/30\n",
      "25900/25900 [==============================] - 2s 74us/step - loss: 0.2536 - acc: 0.9264 - val_loss: 0.2532 - val_acc: 0.9264\n",
      "Epoch 10/30\n",
      "25900/25900 [==============================] - 2s 74us/step - loss: 0.2432 - acc: 0.9295 - val_loss: 0.2432 - val_acc: 0.9283\n",
      "Epoch 11/30\n",
      "25900/25900 [==============================] - 2s 86us/step - loss: 0.2330 - acc: 0.9322 - val_loss: 0.2363 - val_acc: 0.9315\n",
      "Epoch 12/30\n",
      "25900/25900 [==============================] - 2s 73us/step - loss: 0.2239 - acc: 0.9364 - val_loss: 0.2297 - val_acc: 0.9325\n",
      "Epoch 13/30\n",
      "25900/25900 [==============================] - 2s 76us/step - loss: 0.2156 - acc: 0.9384 - val_loss: 0.2226 - val_acc: 0.9340\n",
      "Epoch 14/30\n",
      "25900/25900 [==============================] - 2s 88us/step - loss: 0.2077 - acc: 0.9404 - val_loss: 0.2170 - val_acc: 0.9337\n",
      "Epoch 15/30\n",
      "25900/25900 [==============================] - 2s 79us/step - loss: 0.2009 - acc: 0.9431 - val_loss: 0.2134 - val_acc: 0.9363\n",
      "Epoch 16/30\n",
      "25900/25900 [==============================] - 2s 76us/step - loss: 0.1943 - acc: 0.9446 - val_loss: 0.2087 - val_acc: 0.9366\n",
      "Epoch 17/30\n",
      "25900/25900 [==============================] - 2s 75us/step - loss: 0.1877 - acc: 0.9466 - val_loss: 0.2018 - val_acc: 0.9405\n",
      "Epoch 18/30\n",
      "25900/25900 [==============================] - 2s 75us/step - loss: 0.1817 - acc: 0.9490 - val_loss: 0.1992 - val_acc: 0.9396\n",
      "Epoch 19/30\n",
      "25900/25900 [==============================] - 2s 91us/step - loss: 0.1764 - acc: 0.9491 - val_loss: 0.1965 - val_acc: 0.9420\n",
      "Epoch 20/30\n",
      "25900/25900 [==============================] - 2s 74us/step - loss: 0.1712 - acc: 0.9509 - val_loss: 0.1897 - val_acc: 0.9432\n",
      "Epoch 21/30\n",
      "25900/25900 [==============================] - 2s 84us/step - loss: 0.1660 - acc: 0.9528 - val_loss: 0.1847 - val_acc: 0.9450\n",
      "Epoch 22/30\n",
      "25900/25900 [==============================] - 2s 84us/step - loss: 0.1614 - acc: 0.9548 - val_loss: 0.1823 - val_acc: 0.9461\n",
      "Epoch 23/30\n",
      "25900/25900 [==============================] - 2s 83us/step - loss: 0.1569 - acc: 0.9559 - val_loss: 0.1829 - val_acc: 0.9450\n",
      "Epoch 24/30\n",
      "25900/25900 [==============================] - 2s 78us/step - loss: 0.1529 - acc: 0.9568 - val_loss: 0.1773 - val_acc: 0.9467\n",
      "Epoch 25/30\n",
      "25900/25900 [==============================] - 2s 76us/step - loss: 0.1486 - acc: 0.9582 - val_loss: 0.1741 - val_acc: 0.9477\n",
      "Epoch 26/30\n",
      "25900/25900 [==============================] - 2s 87us/step - loss: 0.1448 - acc: 0.9595 - val_loss: 0.1713 - val_acc: 0.9486\n",
      "Epoch 27/30\n",
      "25900/25900 [==============================] - 2s 81us/step - loss: 0.1409 - acc: 0.9604 - val_loss: 0.1709 - val_acc: 0.9486\n",
      "Epoch 28/30\n",
      "25900/25900 [==============================] - 2s 75us/step - loss: 0.1374 - acc: 0.9612 - val_loss: 0.1656 - val_acc: 0.9498\n",
      "Epoch 29/30\n",
      "25900/25900 [==============================] - 2s 75us/step - loss: 0.1340 - acc: 0.9626 - val_loss: 0.1650 - val_acc: 0.9504\n",
      "Epoch 30/30\n",
      "25900/25900 [==============================] - 2s 79us/step - loss: 0.1310 - acc: 0.9636 - val_loss: 0.1645 - val_acc: 0.9512\n"
     ]
    },
    {
     "data": {
      "text/plain": [
       "<keras.callbacks.History at 0x1d9ee10feb8>"
      ]
     },
     "execution_count": 37,
     "metadata": {},
     "output_type": "execute_result"
    }
   ],
   "source": [
    "# Fit the model\n",
    "model = Sequential() # Sequential model requires that each layer has weight/connection only to the one layer coming after it.\n",
    "\n",
    "# Add the first layer\n",
    "model.add(Dense(50, activation='relu', input_shape=(n_cols,)))                                                           \n",
    "\n",
    "# Add the output layer\n",
    "model.add(Dense(10, activation='softmax')) # adding last/output layer with only 10 nodes as that´s how many output nodes we have.\n",
    "\n",
    "# Specify the optimizer\n",
    "lr=.01\n",
    "my_optimizer = SGD(lr=lr)\n",
    "\n",
    "# Compile the model\n",
    "model.compile(optimizer=my_optimizer, loss='categorical_crossentropy', metrics=['accuracy'])\n",
    "\n",
    "# Use early stopping & tell to stop optimization when the validation loss hasn't improved for 2 epochs by specifying the patience\n",
    "\n",
    "early_stopping_monitor = EarlyStopping(patience=2)\n",
    "\n",
    "# Fitting the model\n",
    "\n",
    "model.fit(X, y,validation_split=0.3, epochs=30,\n",
    "callbacks=[early_stopping_monitor])"
   ]
  },
  {
   "cell_type": "code",
   "execution_count": 38,
   "metadata": {},
   "outputs": [
    {
     "data": {
      "text/plain": [
       "0.9511711711711712"
      ]
     },
     "execution_count": 38,
     "metadata": {},
     "output_type": "execute_result"
    }
   ],
   "source": [
    "max(model.history.history['val_acc'])"
   ]
  },
  {
   "cell_type": "code",
   "execution_count": 44,
   "metadata": {},
   "outputs": [
    {
     "name": "stdout",
     "output_type": "stream",
     "text": [
      "Train on 25900 samples, validate on 11100 samples\n",
      "Epoch 1/30\n",
      "25900/25900 [==============================] - 28s 1ms/step - loss: 0.6845 - acc: 0.8287 - val_loss: 0.3601 - val_acc: 0.9011\n",
      "Epoch 2/30\n",
      "25900/25900 [==============================] - 25s 976us/step - loss: 0.3281 - acc: 0.9046 - val_loss: 0.2993 - val_acc: 0.9156\n",
      "Epoch 3/30\n",
      "25900/25900 [==============================] - 26s 1ms/step - loss: 0.2731 - acc: 0.9179 - val_loss: 0.2613 - val_acc: 0.9219\n",
      "Epoch 4/30\n",
      "25900/25900 [==============================] - 25s 984us/step - loss: 0.2383 - acc: 0.9291 - val_loss: 0.2249 - val_acc: 0.9326\n",
      "Epoch 5/30\n",
      "25900/25900 [==============================] - 27s 1ms/step - loss: 0.2120 - acc: 0.9377 - val_loss: 0.2082 - val_acc: 0.9366\n",
      "Epoch 6/30\n",
      "25900/25900 [==============================] - 25s 971us/step - loss: 0.1901 - acc: 0.9444 - val_loss: 0.1944 - val_acc: 0.9414\n",
      "Epoch 7/30\n",
      "25900/25900 [==============================] - 27s 1ms/step - loss: 0.1723 - acc: 0.9492 - val_loss: 0.1804 - val_acc: 0.9460\n",
      "Epoch 8/30\n",
      "25900/25900 [==============================] - 27s 1ms/step - loss: 0.1563 - acc: 0.9545 - val_loss: 0.1718 - val_acc: 0.9486\n",
      "Epoch 9/30\n",
      "25900/25900 [==============================] - 26s 1000us/step - loss: 0.1433 - acc: 0.9585 - val_loss: 0.1576 - val_acc: 0.9529\n",
      "Epoch 10/30\n",
      "25900/25900 [==============================] - 26s 991us/step - loss: 0.1316 - acc: 0.9620 - val_loss: 0.1512 - val_acc: 0.9536\n",
      "Epoch 11/30\n",
      "25900/25900 [==============================] - 27s 1ms/step - loss: 0.1217 - acc: 0.9642 - val_loss: 0.1506 - val_acc: 0.9535\n",
      "Epoch 12/30\n",
      "25900/25900 [==============================] - 28s 1ms/step - loss: 0.1127 - acc: 0.9675 - val_loss: 0.1403 - val_acc: 0.9562\n",
      "Epoch 13/30\n",
      "25900/25900 [==============================] - 29s 1ms/step - loss: 0.1042 - acc: 0.9707 - val_loss: 0.1393 - val_acc: 0.9586\n",
      "Epoch 14/30\n",
      "25900/25900 [==============================] - 30s 1ms/step - loss: 0.0968 - acc: 0.9735 - val_loss: 0.1386 - val_acc: 0.9569\n",
      "Epoch 15/30\n",
      "25900/25900 [==============================] - 24s 929us/step - loss: 0.0903 - acc: 0.9749 - val_loss: 0.1271 - val_acc: 0.9621\n",
      "Epoch 16/30\n",
      "25900/25900 [==============================] - 27s 1ms/step - loss: 0.0840 - acc: 0.9770 - val_loss: 0.1257 - val_acc: 0.9618\n",
      "Epoch 17/30\n",
      "25900/25900 [==============================] - 27s 1ms/step - loss: 0.0784 - acc: 0.9783 - val_loss: 0.1233 - val_acc: 0.9627\n",
      "Epoch 18/30\n",
      "25900/25900 [==============================] - 27s 1ms/step - loss: 0.0728 - acc: 0.9810 - val_loss: 0.1231 - val_acc: 0.9619\n",
      "Epoch 19/30\n",
      "25900/25900 [==============================] - 36s 1ms/step - loss: 0.0681 - acc: 0.9825 - val_loss: 0.1189 - val_acc: 0.9636\n",
      "Epoch 20/30\n",
      "25900/25900 [==============================] - 29s 1ms/step - loss: 0.0639 - acc: 0.9834 - val_loss: 0.1143 - val_acc: 0.9646\n",
      "Epoch 21/30\n",
      "25900/25900 [==============================] - 30s 1ms/step - loss: 0.0596 - acc: 0.9849 - val_loss: 0.1122 - val_acc: 0.9650\n",
      "Epoch 22/30\n",
      "25900/25900 [==============================] - 31s 1ms/step - loss: 0.0558 - acc: 0.9859 - val_loss: 0.1121 - val_acc: 0.9648\n",
      "Epoch 23/30\n",
      "25900/25900 [==============================] - 30s 1ms/step - loss: 0.0521 - acc: 0.9876 - val_loss: 0.1081 - val_acc: 0.9669\n",
      "Epoch 24/30\n",
      "25900/25900 [==============================] - 32s 1ms/step - loss: 0.0488 - acc: 0.9890 - val_loss: 0.1101 - val_acc: 0.9651\n",
      "Epoch 25/30\n",
      "25900/25900 [==============================] - 24s 932us/step - loss: 0.0457 - acc: 0.9902 - val_loss: 0.1060 - val_acc: 0.9674\n",
      "Epoch 26/30\n",
      "25900/25900 [==============================] - 28s 1ms/step - loss: 0.0427 - acc: 0.9911 - val_loss: 0.1074 - val_acc: 0.9666\n",
      "Epoch 27/30\n",
      "25900/25900 [==============================] - 36s 1ms/step - loss: 0.0403 - acc: 0.9921 - val_loss: 0.1058 - val_acc: 0.9680\n",
      "Epoch 28/30\n",
      "25900/25900 [==============================] - 29s 1ms/step - loss: 0.0372 - acc: 0.9930 - val_loss: 0.1139 - val_acc: 0.9640\n",
      "Epoch 29/30\n",
      "25900/25900 [==============================] - 26s 1ms/step - loss: 0.0351 - acc: 0.9937 - val_loss: 0.1052 - val_acc: 0.9678\n",
      "Epoch 30/30\n",
      "25900/25900 [==============================] - 25s 982us/step - loss: 0.0330 - acc: 0.9941 - val_loss: 0.1053 - val_acc: 0.9679\n"
     ]
    },
    {
     "data": {
      "text/plain": [
       "<keras.callbacks.History at 0x1d9f041cf60>"
      ]
     },
     "execution_count": 44,
     "metadata": {},
     "output_type": "execute_result"
    }
   ],
   "source": [
    "seed(1)\n",
    "# Fit the model\n",
    "model_1 = Sequential() # Sequential model requires that each layer has weight/connection only to the one layer coming after it.\n",
    "\n",
    "# Add the first layer\n",
    "model_1.add(Dense(1000, activation='relu', input_shape=(n_cols,)))                                                           \n",
    "model_1.add(Dense(1000, activation='relu'))  \n",
    "\n",
    "# Add the output layer\n",
    "model_1.add(Dense(10, activation='softmax')) # adding last/output layer with only 10 nodes as that´s how many output nodes we have.\n",
    "\n",
    "# Specify the optimizer\n",
    "lr=.01\n",
    "my_optimizer = SGD(lr=lr)\n",
    "\n",
    "# Compile the model\n",
    "model_1.compile(optimizer=my_optimizer, loss='categorical_crossentropy', metrics=['accuracy'])\n",
    "\n",
    "# Use early stopping & tell to stop optimization when the validation loss hasn't improved for 2 epochs by specifying the patience\n",
    "\n",
    "early_stopping_monitor = EarlyStopping(patience=2)\n",
    "\n",
    "# Fitting the model\n",
    "\n",
    "model_1.fit(X, y,validation_split=0.3, epochs=30,\n",
    "callbacks=[early_stopping_monitor])"
   ]
  },
  {
   "cell_type": "code",
   "execution_count": 45,
   "metadata": {},
   "outputs": [
    {
     "data": {
      "text/plain": [
       "0.968018018018018"
      ]
     },
     "execution_count": 45,
     "metadata": {},
     "output_type": "execute_result"
    }
   ],
   "source": [
    "max(model_1.history.history['val_acc'])"
   ]
  },
  {
   "cell_type": "markdown",
   "metadata": {},
   "source": [
    "## Comparing the two models"
   ]
  },
  {
   "cell_type": "code",
   "execution_count": 46,
   "metadata": {},
   "outputs": [
    {
     "data": {
      "image/png": "[encoded data removed]",
      "text/plain": [
       "<matplotlib.figure.Figure at 0x1d9ef9eda90>"
      ]
     },
     "metadata": {},
     "output_type": "display_data"
    }
   ],
   "source": [
    "plt.plot(model.history.history['val_loss'], 'g' , model_1.history.history['val_loss'], 'r')\n",
    "plt.xlabel('Epochs')\n",
    "plt.ylabel('Validation score')\n",
    "plt.show()\n"
   ]
  },
  {
   "cell_type": "markdown",
   "metadata": {},
   "source": [
    "## Predicting and saving the results"
   ]
  },
  {
   "cell_type": "code",
   "execution_count": 52,
   "metadata": {
    "collapsed": true
   },
   "outputs": [],
   "source": [
    "predictions = model_1.predict_classes(X_test)\n",
    "\n"
   ]
  },
  {
   "cell_type": "code",
   "execution_count": 53,
   "metadata": {},
   "outputs": [
    {
     "data": {
      "text/plain": [
       "array([2, 0, 9, ..., 3, 9, 2], dtype=int64)"
      ]
     },
     "execution_count": 53,
     "metadata": {},
     "output_type": "execute_result"
    }
   ],
   "source": [
    "predictions"
   ]
  },
  {
   "cell_type": "code",
   "execution_count": 54,
   "metadata": {
    "collapsed": true
   },
   "outputs": [],
   "source": [
    "submissions=pd.DataFrame({\"ImageId\": list(range(1,len(predictions)+1)),\n",
    "                         \"Label\": predictions})\n"
   ]
  },
  {
   "cell_type": "code",
   "execution_count": 55,
   "metadata": {},
   "outputs": [
    {
     "data": {
      "text/html": [
       "<div>\n",
       "<style>\n",
       "    .dataframe thead tr:only-child th {\n",
       "        text-align: right;\n",
       "    }\n",
       "\n",
       "    .dataframe thead th {\n",
       "        text-align: left;\n",
       "    }\n",
       "\n",
       "    .dataframe tbody tr th {\n",
       "        vertical-align: top;\n",
       "    }\n",
       "</style>\n",
       "<table border=\"1\" class=\"dataframe\">\n",
       "  <thead>\n",
       "    <tr style=\"text-align: right;\">\n",
       "      <th></th>\n",
       "      <th>ImageId</th>\n",
       "      <th>Label</th>\n",
       "    </tr>\n",
       "  </thead>\n",
       "  <tbody>\n",
       "    <tr>\n",
       "      <th>0</th>\n",
       "      <td>1</td>\n",
       "      <td>2</td>\n",
       "    </tr>\n",
       "    <tr>\n",
       "      <th>1</th>\n",
       "      <td>2</td>\n",
       "      <td>0</td>\n",
       "    </tr>\n",
       "    <tr>\n",
       "      <th>2</th>\n",
       "      <td>3</td>\n",
       "      <td>9</td>\n",
       "    </tr>\n",
       "    <tr>\n",
       "      <th>3</th>\n",
       "      <td>4</td>\n",
       "      <td>9</td>\n",
       "    </tr>\n",
       "    <tr>\n",
       "      <th>4</th>\n",
       "      <td>5</td>\n",
       "      <td>3</td>\n",
       "    </tr>\n",
       "  </tbody>\n",
       "</table>\n",
       "</div>"
      ],
      "text/plain": [
       "   ImageId  Label\n",
       "0        1      2\n",
       "1        2      0\n",
       "2        3      9\n",
       "3        4      9\n",
       "4        5      3"
      ]
     },
     "execution_count": 55,
     "metadata": {},
     "output_type": "execute_result"
    }
   ],
   "source": [
    "submissions.head(5)"
   ]
  },
  {
   "cell_type": "code",
   "execution_count": 57,
   "metadata": {
    "collapsed": true
   },
   "outputs": [],
   "source": [
    "submissions.to_csv(\"Neu_Net_333.csv\", index=False, header=True)"
   ]
  },
  {
   "cell_type": "markdown",
   "metadata": {},
   "source": [
    "This submission scored 0.96357"
   ]
  }
 ],
 "metadata": {
  "kernelspec": {
   "display_name": "Python 3",
   "language": "python",
   "name": "python3"
  },
  "language_info": {
   "codemirror_mode": {
    "name": "ipython",
    "version": 3
   },
   "file_extension": ".py",
   "mimetype": "text/x-python",
   "name": "python",
   "nbconvert_exporter": "python",
   "pygments_lexer": "ipython3",
   "version": "3.6.1"
  }
 },
 "nbformat": 4,
 "nbformat_minor": 2
}
